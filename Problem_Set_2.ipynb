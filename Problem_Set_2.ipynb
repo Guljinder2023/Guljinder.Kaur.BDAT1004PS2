{
 "cells": [
  {
   "cell_type": "markdown",
   "id": "a00e6918",
   "metadata": {},
   "source": [
    "## Question 1"
   ]
  },
  {
   "cell_type": "markdown",
   "id": "b575b436",
   "metadata": {},
   "source": [
    "When you first import the module, the variable 'a' is defined and initialized with a value of 0."
   ]
  },
  {
   "cell_type": "markdown",
   "id": "48a0122e",
   "metadata": {},
   "source": [
    "The method b() is then called three times:"
   ]
  },
  {
   "cell_type": "markdown",
   "id": "e183ae6a",
   "metadata": {},
   "source": [
    "A. You indicate that you want to use the global variable \"a\" inside the function in the first call to b(). Then you call the function c(a), which changes the value of 'a' from (0 + 2) to 2 by adding 2."
   ]
  },
  {
   "cell_type": "markdown",
   "id": "be61e10f",
   "metadata": {},
   "source": [
    "b. Since 'a' is already 2 in the second call to b(), the global variable 'a' is once again used inside the method. You type c(a), which increases the value of 'a' by 2 (2 + 2), making it 4 as a result."
   ]
  },
  {
   "cell_type": "markdown",
   "id": "9d691082",
   "metadata": {},
   "source": [
    "c. Because 'a' is now 4 in the third call to b(), you use the global variable 'a' inside the method. You type c(a), which increases the value of 'a' by 2 to its current value (4 + 2), making 'a' 6."
   ]
  },
  {
   "cell_type": "markdown",
   "id": "fe5f0552",
   "metadata": {},
   "source": [
    "So, when 'a' is evaluated, the value shown is 6."
   ]
  },
  {
   "cell_type": "markdown",
   "id": "65a3bb2b",
   "metadata": {},
   "source": [
    "## Question 2"
   ]
  },
  {
   "cell_type": "code",
   "execution_count": 3,
   "id": "e12d59df",
   "metadata": {},
   "outputs": [
    {
     "name": "stdout",
     "output_type": "stream",
     "text": [
      "123\n",
      "Opps!! File guljinder.py not found.\n"
     ]
    }
   ],
   "source": [
    "def fileLength(filename):\n",
    "    try:\n",
    "        infile = open(filename, 'r')\n",
    "        content = infile.read()\n",
    "        infile.close()\n",
    "        length = len(content)\n",
    "        return length\n",
    "    except FileNotFoundError:\n",
    "        return f\"Opps!! File {filename} not found.\"\n",
    "\n",
    "print(fileLength('Filelength.txt'))\n",
    "print(fileLength('guljinder.py'))"
   ]
  },
  {
   "cell_type": "markdown",
   "id": "ceb10f9e",
   "metadata": {},
   "source": [
    "## Question 3"
   ]
  },
  {
   "cell_type": "code",
   "execution_count": 1,
   "id": "8887a7be",
   "metadata": {},
   "outputs": [
    {
     "name": "stdout",
     "output_type": "stream",
     "text": [
      "['doll', 'firetruck', 'kitten']\n",
      "I am a Kangaroo located at coordinates (0,0)\n",
      "['doll', 'firetruck', 'kitten']\n",
      "I am a Kangaroo located at coordinates (3,0)\n"
     ]
    }
   ],
   "source": [
    "class Marsupial:\n",
    "    def __init__(self):\n",
    "        self.pouch = []\n",
    "    def put_in_pouch(self, item):\n",
    "        self.pouch.append(item)\n",
    "    def pouch_contents(self):\n",
    "        return self.pouch\n",
    "class Kangaroo(Marsupial):\n",
    "    def __init__(self, x, y):\n",
    "        super().__init__()\n",
    "        self.x = x\n",
    "        self.y = y\n",
    "    def jump(self, dx, dy):\n",
    "        self.x += dx\n",
    "        self.y += dy\n",
    "    def __str__(self):\n",
    "        return f'I am a Kangaroo located at coordinates ({self.x},{self.y})'\n",
    "m = Marsupial()\n",
    "m.put_in_pouch('doll')\n",
    "m.put_in_pouch('firetruck')\n",
    "m.put_in_pouch('kitten')\n",
    "print(m.pouch_contents()) \n",
    "k = Kangaroo(0, 0)\n",
    "print(k) \n",
    "k.put_in_pouch('doll')\n",
    "k.put_in_pouch('firetruck')\n",
    "k.put_in_pouch('kitten')\n",
    "print(k.pouch_contents()) \n",
    "k.jump(1, 0)\n",
    "k.jump(1, 0)\n",
    "k.jump(1, 0)\n",
    "print(k)"
   ]
  },
  {
   "cell_type": "markdown",
   "id": "7c798390",
   "metadata": {},
   "source": [
    "## Question 4"
   ]
  },
  {
   "cell_type": "code",
   "execution_count": 2,
   "id": "cfa66d3f",
   "metadata": {},
   "outputs": [
    {
     "name": "stdout",
     "output_type": "stream",
     "text": [
      "2\n",
      "1\n",
      "12\n",
      "6\n",
      "3\n",
      "10\n",
      "5\n",
      "16\n",
      "8\n",
      "4\n",
      "2\n",
      "1\n"
     ]
    }
   ],
   "source": [
    "def collatz(a):\n",
    "    print(a)\n",
    "    if a == 1:\n",
    "        return\n",
    "    elif a % 2 == 0:\n",
    "        collatz(a // 2)\n",
    "    else:\n",
    "        collatz(3 * a + 1)\n",
    "collatz(2)\n",
    "collatz(12)"
   ]
  },
  {
   "cell_type": "markdown",
   "id": "fad0a075",
   "metadata": {},
   "source": [
    "## Question 5"
   ]
  },
  {
   "cell_type": "code",
   "execution_count": 3,
   "id": "028ea1e6",
   "metadata": {},
   "outputs": [
    {
     "name": "stdout",
     "output_type": "stream",
     "text": [
      "0\n",
      "1\n",
      "11\n",
      "1001\n"
     ]
    }
   ],
   "source": [
    "def binary(b):\n",
    "    if b == 0:\n",
    "        print(0, end='')\n",
    "    elif b == 1:\n",
    "        print(1, end='')\n",
    "    else:\n",
    "        binary(b // 2)\n",
    "        print(b % 2, end='')\n",
    "binary(0) \n",
    "print()\n",
    "binary(1)  \n",
    "print()\n",
    "binary(3)  \n",
    "print()\n",
    "binary(9)  \n",
    "print()"
   ]
  },
  {
   "cell_type": "markdown",
   "id": "5e9f0054",
   "metadata": {},
   "source": [
    "## Question 6"
   ]
  },
  {
   "cell_type": "code",
   "execution_count": 6,
   "id": "6947cb21",
   "metadata": {},
   "outputs": [
    {
     "name": "stdout",
     "output_type": "stream",
     "text": [
      "W3C Mission\n",
      " Principles\n"
     ]
    }
   ],
   "source": [
    "from html.parser import HTMLParser\n",
    "class HeadingParser(HTMLParser):\n",
    "    Hd1 = [\"h1\", \"h2\"]\n",
    "    cur2 = -1\n",
    "    def handle_starttag(self, tag, attrs):      \n",
    "        if tag in HeadingParser.Hd1:         \n",
    "            HeadingParser.cur2 = HeadingParser.Hd1.index(tag)\n",
    "    def handle_endtag(self, tag):                \n",
    "        if tag == HeadingParser.Hd1[HeadingParser.cur2]:          \n",
    "            HeadingParser.cur2 = -1            \n",
    "    def handle_data(self, data):\n",
    "        if HeadingParser.cur2 >= 0:\n",
    "            print(\" \" * HeadingParser.cur2 + data)            \n",
    "infile = open(\"w3c.html\",\"r\")\n",
    "content = infile.read()\n",
    "infile.close()\n",
    "ans1 = HeadingParser()\n",
    "ans1.feed(content)"
   ]
  },
  {
   "cell_type": "markdown",
   "id": "cb2b84ad",
   "metadata": {},
   "source": [
    "## Question 7"
   ]
  },
  {
   "cell_type": "code",
   "execution_count": 4,
   "id": "d28782d2",
   "metadata": {},
   "outputs": [
    {
     "name": "stdout",
     "output_type": "stream",
     "text": [
      "https://www.cbc.ca/\n",
      "  https://gem.cbc.ca/still-standing/s09e04?cmp=GEM_cbc.ca_homepage_shelfnew\n",
      "  https://gem.cbc.ca/still-standing/s09e04?cmp=GEM_cbc.ca_homepage_shelfnew\n",
      "  https://ici.radio-canada.ca/rci/en\n",
      "  https://www.cbc.ca/listen/live-radio?cmp=Radio_mobileweb_unit\n",
      "  https://www.cbc.ca/listen/live-radio/1-14-day-6/clip/16015757-tensions-rise-romana-didulo-sets-residence-small-town-saskatchewan\n",
      "  https://gem.cbc.ca/?cmp=GEM_cbc.ca_homepage_shelfnew\n",
      "  https://gem.cbc.ca/this-hour-has-22-minutes/s31e05?cmp=GEM_cbc.ca_homepage_shelfnew\n",
      "  https://gem.cbc.ca/dragons-den/s18e04?cmp=GEM_cbc.ca_homepage_shelfnew\n",
      "  https://gem.cbc.ca/marketplace/s51e01?cmp=GEM_cbc.ca_homepage_shelfnew\n",
      "  https://gem.cbc.ca/animal-control/s01?cmp=GEM_cbc.ca_homepage_shelfnew\n",
      "  https://gem.cbc.ca/join-now\n",
      "  https://www.cbc.ca/radio/costofliving/skiplagging-hidden-city-fares-travel-1.6972838\n",
      "  https://www.cbc.ca/radio/undertheinfluence/one-new-york-hotel-manager-discovered-a-450-pound-lion-roaming-a-suite-1.6396083\n",
      "  https://www.cbc.ca/radio/whitecoat/the-dose-osteoporosis-explainer-1.6877764\n",
      "  https://www.cbc.ca/life/home/how-to-keep-creatures-and-critters-out-of-your-home-as-it-gets-colder-1.4880114\n",
      "  https://www.cbc.ca/radio/nowornever/afraid-to-show-it-off-here-s-how-to-love-the-skin-you-re-in-1.6871278/creating-content-on-onlyfans-helped-me-embrace-my-disability-1.6879081\n",
      "  https://www.cbc.ca/documentaries/the-passionate-eye/these-two-canadian-farmers-used-roundup-on-their-crops-for-decades-then-they-were-diagnosed-with-cancer-1.6584108\n",
      "  https://gem.cbc.ca/benefits/\n",
      "  https://subscriptions.cbc.ca/listmanagement\n",
      "  https://www.facebook.com/cbc/\n",
      "  https://twitter.com/cbc/\n",
      "  https://www.youtube.com/user/CBCtv\n",
      "  https://www.instagram.com/cbc/?hl=en\n",
      "  https://www.cbc.ca/rss/\n",
      "  https://cbc.radio-canada.ca/en\n",
      "  https://cbc.radio-canada.ca/en/vision/governance/terms-of-use-digital-services\n",
      "  https://cbc.radio-canada.ca/en/working-with-us/jobs/\n",
      "  https://cbc.radio-canada.ca/en/vision/unions-associations\n",
      "  https://www.cbc.ca/independentproducers/\n",
      "  https://cbc.radio-canada.ca/en/impact-and-accountability/regulatory/political-ads-registry\n",
      "  https://cbc.radio-canada.ca/en/ombudsman/\n",
      "  https://www.cbc.ca/news/corrections-clarifications-1.5893564\n",
      "  https://www.cbc.ca/news/public-appearances-1.4969965\n",
      "  https://cbc.radio-canada.ca/en/services/commercial-services/\n",
      "  https://cbc.radio-canada.ca/en/working-with-us/partners-and-suppliers/\n",
      "  https://www.cbc.ca/productionfacilities/\n",
      "  https://ici.radio-canada.ca/rci/en\n",
      "  https://www.cbc.ca/lite\n",
      "  https://gem.cbc.ca/\n",
      "  https://cbc.radio-canada.ca/en\n",
      "  https://ici.radio-canada.ca/\n"
     ]
    }
   ],
   "source": [
    "import requests\n",
    "from bs4 import BeautifulSoup\n",
    "\n",
    "def webdir(url, depth, indent):\n",
    "    if depth == 0:\n",
    "        return\n",
    "\n",
    "    try:\n",
    "        response = requests.get(url)\n",
    "        response.raise_for_status()\n",
    "        soup = BeautifulSoup(response.text, 'html.parser')\n",
    "\n",
    "        print(' ' * indent + url)\n",
    "\n",
    "        links = soup.find_all('a', href=True)\n",
    "        for link in links:\n",
    "            next_url = link['href']\n",
    "            if next_url.startswith('http'):\n",
    "                webdir(next_url, depth - 1, indent + 2)\n",
    "    except requests.exceptions.RequestException:\n",
    "        # Handle request errors if any\n",
    "        pass\n",
    "\n",
    "# Test the webdir function\n",
    "webdir('https://www.cbc.ca/', 2, 0)"
   ]
  },
  {
   "cell_type": "markdown",
   "id": "7ee4bc1e",
   "metadata": {},
   "source": [
    "## Question 8"
   ]
  },
  {
   "cell_type": "code",
   "execution_count": 7,
   "id": "6e33dd34",
   "metadata": {},
   "outputs": [],
   "source": [
    "import sqlite3\n",
    "connect = sqlite3.connect('question_8')\n",
    "c = connect.cursor()"
   ]
  },
  {
   "cell_type": "code",
   "execution_count": 8,
   "id": "09b849a6",
   "metadata": {},
   "outputs": [
    {
     "data": {
      "text/plain": [
       "<sqlite3.Cursor at 0x2b85e072340>"
      ]
     },
     "execution_count": 8,
     "metadata": {},
     "output_type": "execute_result"
    }
   ],
   "source": [
    "c.execute('''CREATE TABLE question_8 (city TEXT NOT NULL, country TEXT NOT NULL, season TEXT NOT NULL, temperature INTEGER NOT NULL, rainfall INTEGER NOT NULL)''')\n"
   ]
  },
  {
   "cell_type": "code",
   "execution_count": 9,
   "id": "f0b02a70",
   "metadata": {},
   "outputs": [],
   "source": [
    "c.execute(\"INSERT INTO question_8 VALUES ('Mumbai', 'India', 'Winter', 24.8, 5.9)\")\n",
    "c.execute(\"INSERT INTO question_8 VALUES ('Mumbai', 'India', 'Spring', 28.4, 16.2)\")\n",
    "c.execute(\"INSERT INTO question_8 VALUES ('Mumbai', 'India', 'Summer', 27.9, 1549.2)\")\n",
    "c.execute(\"INSERT INTO question_8 VALUES ('Mumbai', 'India', 'Fall', 27.6, 346.0)\")\n",
    "c.execute(\"INSERT INTO question_8 VALUES ('London', 'United Kingdom', 'Winter', 4.2, 207.7)\")\n",
    "c.execute(\"INSERT INTO question_8 VALUES ('London', 'United Kingdom', 'Spring', 8.3, 169.6)\")\n",
    "c.execute(\"INSERT INTO question_8 VALUES ('London', 'United Kingdom', 'Summer', 15.7, 157.0)\")\n",
    "c.execute(\"INSERT INTO question_8 VALUES ('London', 'United Kingdom', 'Fall', 10.4, 218.5)\")\n",
    "\n",
    "c.execute(\"INSERT INTO question_8 VALUES ('Cairo', 'Egypt', 'Winter', 13.6, 16.5)\")\n",
    "c.execute(\"INSERT INTO question_8 VALUES ('Cairo', 'Egypt', 'Spring', 20.7, 6.5)\")\n",
    "c.execute(\"INSERT INTO question_8 VALUES ('Cairo', 'Egypt', 'Summer', 27.7, 0.1)\")\n",
    "c.execute(\"INSERT INTO question_8 VALUES ('Cairo', 'Egypt', 'Fall', 22.2, 4.5)\")\n",
    "connect.commit()"
   ]
  },
  {
   "cell_type": "code",
   "execution_count": 10,
   "id": "76dd4441",
   "metadata": {},
   "outputs": [
    {
     "name": "stdout",
     "output_type": "stream",
     "text": [
      "24.8\n",
      "28.4\n",
      "27.9\n",
      "27.6\n",
      "4.2\n",
      "8.3\n",
      "15.7\n",
      "10.4\n",
      "13.6\n",
      "20.7\n",
      "27.7\n",
      "22.2\n"
     ]
    }
   ],
   "source": [
    "c.execute(\"SELECT temperature FROM question_8\")\n",
    "rows = c.fetchall()\n",
    "for row in rows:\n",
    "    print(row[0])"
   ]
  },
  {
   "cell_type": "code",
   "execution_count": 11,
   "id": "06a4fe3c",
   "metadata": {},
   "outputs": [
    {
     "name": "stdout",
     "output_type": "stream",
     "text": [
      "Mumbai\n",
      "London\n",
      "Cairo\n"
     ]
    }
   ],
   "source": [
    "c.execute(\"SELECT DISTINCT city FROM question_8\")\n",
    "rows = c.fetchall()\n",
    "for row in rows:\n",
    "    print(row[0])"
   ]
  },
  {
   "cell_type": "code",
   "execution_count": 12,
   "id": "d4183b0d",
   "metadata": {},
   "outputs": [
    {
     "name": "stdout",
     "output_type": "stream",
     "text": [
      "('Mumbai', 'India', 'Winter', 24.8, 5.9)\n",
      "('Mumbai', 'India', 'Spring', 28.4, 16.2)\n",
      "('Mumbai', 'India', 'Summer', 27.9, 1549.2)\n",
      "('Mumbai', 'India', 'Fall', 27.6, 346)\n"
     ]
    }
   ],
   "source": [
    "c.execute(\"SELECT * FROM question_8 WHERE country='India'\")\n",
    "rows = c.fetchall()\n",
    "for row in rows:\n",
    "    print(row)"
   ]
  },
  {
   "cell_type": "code",
   "execution_count": 13,
   "id": "835f07df",
   "metadata": {},
   "outputs": [
    {
     "name": "stdout",
     "output_type": "stream",
     "text": [
      "('Mumbai', 'India', 'Fall', 27.6, 346)\n",
      "('London', 'United Kingdom', 'Fall', 10.4, 218.5)\n",
      "('Cairo', 'Egypt', 'Fall', 22.2, 4.5)\n"
     ]
    }
   ],
   "source": [
    "c.execute(\"SELECT * FROM question_8 WHERE season='Fall'\")\n",
    "rows = c.fetchall()\n",
    "for row in rows:\n",
    "    print(row)"
   ]
  },
  {
   "cell_type": "code",
   "execution_count": 14,
   "id": "ce5fe534",
   "metadata": {},
   "outputs": [
    {
     "name": "stdout",
     "output_type": "stream",
     "text": [
      "('London', 'United Kingdom', 'Fall')\n",
      "('London', 'United Kingdom', 'Winter')\n",
      "('Mumbai', 'India', 'Fall')\n"
     ]
    }
   ],
   "source": [
    "c.execute(\"SELECT city, country, season FROM question_8 GROUP BY city, country, season HAVING AVG(rainfall) BETWEEN 200 AND 400\")\n",
    "rows = c.fetchall()\n",
    "for row in rows:\n",
    "    print(row)"
   ]
  },
  {
   "cell_type": "code",
   "execution_count": 15,
   "id": "f1c3a022",
   "metadata": {},
   "outputs": [
    {
     "name": "stdout",
     "output_type": "stream",
     "text": [
      "('Cairo', 'Egypt')\n",
      "('Mumbai', 'India')\n"
     ]
    }
   ],
   "source": [
    "c.execute(\"SELECT city, country FROM question_8 WHERE season='Fall' GROUP BY city, country HAVING AVG(temperature) > 20 ORDER BY AVG(temperature) ASC\")\n",
    "rows = c.fetchall()\n",
    "for row in rows:\n",
    "    print(row)"
   ]
  },
  {
   "cell_type": "code",
   "execution_count": 18,
   "id": "7b5e8d86",
   "metadata": {},
   "outputs": [
    {
     "name": "stdout",
     "output_type": "stream",
     "text": [
      "The Total Rainfall in Cairo is:  27.6\n"
     ]
    }
   ],
   "source": [
    "c.execute(\"SELECT SUM(rainfall) FROM question_8 WHERE city='Cairo'\")\n",
    "totalRainfall = c.fetchone()\n",
    "print(\"The Total Rainfall in Cairo is: \", totalRainfall[0])"
   ]
  },
  {
   "cell_type": "code",
   "execution_count": 19,
   "id": "606a850e",
   "metadata": {},
   "outputs": [
    {
     "name": "stdout",
     "output_type": "stream",
     "text": [
      "Total rainfall for Fall season: 569.0\n",
      "Total rainfall for Spring season: 192.29999999999998\n",
      "Total rainfall for Summer season: 1706.3\n",
      "Total rainfall for Winter season: 230.1\n"
     ]
    }
   ],
   "source": [
    "c.execute(\"SELECT season, SUM(rainfall) FROM question_8 GROUP BY season\")\n",
    "rows = c.fetchall()\n",
    "for row in rows:\n",
    "    print(\"Total rainfall for\", row[0], \"season:\", row[1])"
   ]
  },
  {
   "cell_type": "code",
   "execution_count": 20,
   "id": "7416cd12",
   "metadata": {},
   "outputs": [
    {
     "name": "stdout",
     "output_type": "stream",
     "text": [
      "('Mumbai', 'India', 'Winter', 24.8, 5.9)\n",
      "('Mumbai', 'India', 'Spring', 28.4, 16.2)\n",
      "('Mumbai', 'India', 'Summer', 27.9, 1549.2)\n",
      "('Mumbai', 'India', 'Fall', 27.6, 346)\n",
      "('London', 'United Kingdom', 'Winter', 4.2, 207.7)\n",
      "('London', 'United Kingdom', 'Spring', 8.3, 169.6)\n",
      "('London', 'United Kingdom', 'Summer', 15.7, 157)\n",
      "('London', 'United Kingdom', 'Fall', 10.4, 218.5)\n",
      "('Cairo', 'Egypt', 'Winter', 13.6, 16.5)\n",
      "('Cairo', 'Egypt', 'Spring', 20.7, 6.5)\n",
      "('Cairo', 'Egypt', 'Summer', 27.7, 0.1)\n",
      "('Cairo', 'Egypt', 'Fall', 22.2, 4.5)\n"
     ]
    }
   ],
   "source": [
    "c.execute(\"SELECT * FROM question_8\")\n",
    "rows = c.fetchall()\n",
    "for row in rows:\n",
    "    print(row)"
   ]
  },
  {
   "cell_type": "markdown",
   "id": "1a8540b8",
   "metadata": {},
   "source": [
    "## Question 9"
   ]
  },
  {
   "cell_type": "code",
   "execution_count": 11,
   "id": "50220ab4",
   "metadata": {},
   "outputs": [],
   "source": [
    "words = ['The', 'quick', 'brown', 'fox', 'jumps', 'over',\n",
    "'the', 'lazy', 'dog']"
   ]
  },
  {
   "cell_type": "code",
   "execution_count": 13,
   "id": "e5b50a13",
   "metadata": {},
   "outputs": [
    {
     "name": "stdout",
     "output_type": "stream",
     "text": [
      "['THE', 'QUICK', 'BROWN', 'FOX', 'JUMPS', 'OVER', 'THE', 'LAZY', 'DOG']\n"
     ]
    }
   ],
   "source": [
    "aa = [word.upper() for word in words]\n",
    "print(aa)"
   ]
  },
  {
   "cell_type": "code",
   "execution_count": 19,
   "id": "568fb7f3",
   "metadata": {},
   "outputs": [
    {
     "name": "stdout",
     "output_type": "stream",
     "text": [
      "['the', 'quick', 'brown', 'fox', 'jumps', 'over', 'the', 'lazy', 'dog']\n"
     ]
    }
   ],
   "source": [
    "bb = [word.lower() for word in words]\n",
    "print(bb)"
   ]
  },
  {
   "cell_type": "code",
   "execution_count": 18,
   "id": "ccf884e9",
   "metadata": {},
   "outputs": [
    {
     "name": "stdout",
     "output_type": "stream",
     "text": [
      "[3, 5, 5, 3, 5, 4, 3, 4, 3]\n"
     ]
    }
   ],
   "source": [
    "cc = [len(word) for word in words]\n",
    "print(cc)"
   ]
  },
  {
   "cell_type": "code",
   "execution_count": 17,
   "id": "6e1f0c63",
   "metadata": {},
   "outputs": [
    {
     "name": "stdout",
     "output_type": "stream",
     "text": [
      "[['THE', 'the', 3], ['QUICK', 'quick', 5], ['BROWN', 'brown', 5], ['FOX', 'fox', 3], ['JUMPS', 'jumps', 5], ['OVER', 'over', 4], ['THE', 'the', 3], ['LAZY', 'lazy', 4], ['DOG', 'dog', 3]]\n"
     ]
    }
   ],
   "source": [
    "dd = [[word.upper(), word.lower(), len(word)] for word in words]\n",
    "print(dd)"
   ]
  },
  {
   "cell_type": "code",
   "execution_count": 20,
   "id": "1ad09a19",
   "metadata": {},
   "outputs": [
    {
     "name": "stdout",
     "output_type": "stream",
     "text": [
      "['The', 'quick', 'brown', 'fox', 'jumps', 'over', 'the', 'lazy', 'dog']\n"
     ]
    }
   ],
   "source": [
    "ee = words\n",
    "print(ee)\n"
   ]
  }
 ],
 "metadata": {
  "kernelspec": {
   "display_name": "Python 3 (ipykernel)",
   "language": "python",
   "name": "python3"
  },
  "language_info": {
   "codemirror_mode": {
    "name": "ipython",
    "version": 3
   },
   "file_extension": ".py",
   "mimetype": "text/x-python",
   "name": "python",
   "nbconvert_exporter": "python",
   "pygments_lexer": "ipython3",
   "version": "3.11.4"
  }
 },
 "nbformat": 4,
 "nbformat_minor": 5
}
